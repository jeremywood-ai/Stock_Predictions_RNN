{
 "cells": [
  {
   "cell_type": "markdown",
   "metadata": {},
   "source": [
    "# Building a RNN for Stock Trending\n",
    "\n",
    "Using a stacked-LSTM model approach\n",
    "\n",
    "This is a walk-through (revisit) and where I will type from TF Cert Videos. The approach will be completed in 15 steps.\n",
    "\n",
    "The `LSTM` will be stacked and adjustments made to avoid overfitting.\n",
    "\n",
    "## Import Libraries"
   ]
  },
  {
   "cell_type": "code",
   "execution_count": 1,
   "metadata": {},
   "outputs": [],
   "source": [
    "import numpy as np\n",
    "import tensorflow as tf\n",
    "import matplotlib.pyplot as plt\n",
    "import pandas as pd"
   ]
  },
  {
   "cell_type": "markdown",
   "metadata": {},
   "source": [
    "## Get Ticker Infomation\n",
    "\n",
    "The dataset for the exercise does not exist. *So* I went out to `Yahoo Finance` price and history to get my own. This is good practice.\n",
    "\n",
    "Required installation of `pandas-datareader`. Note: a `-` versus `_` for the name to install. To activate the library, it is an `_`. Environment uses `pandas-datareader` version $0.8.1$, along with:\n",
    "* `libxml2` $2.9.10$\n",
    "* `libslt` $1.1.33$\n",
    "* `lxml` $4.6.2$\n",
    "\n",
    "`pandas` version: $1.1.5$\n",
    "\n",
    "Errors arose with version $0.8.1$. Removed.\n",
    "\n",
    "Install via `pip` for version $0.9.0$"
   ]
  },
  {
   "cell_type": "code",
   "execution_count": 2,
   "metadata": {},
   "outputs": [],
   "source": [
    "# import external pandas_datareader library with alias of pdr\n",
    "import pandas_datareader as pdr\n",
    "\n",
    "# import datetime internal module, native to `Python`\n",
    "import datetime"
   ]
  },
  {
   "cell_type": "markdown",
   "metadata": {},
   "source": [
    "**Update:** Using `pip` to call down `pandas-datareader` version $0.9.0$"
   ]
  },
  {
   "cell_type": "code",
   "execution_count": 3,
   "metadata": {},
   "outputs": [],
   "source": [
    "ticker = \"TSLA\""
   ]
  },
  {
   "cell_type": "code",
   "execution_count": 4,
   "metadata": {},
   "outputs": [],
   "source": [
    "#datetime.datetime is a data type within the datetime module\n",
    "# Calling data for three (3) years\n",
    "# start = datetime.datetime(2017, 12, 13)  # Can be specific dates YYYY, MM, DD\n",
    "end = datetime.datetime(2020, 10, 31)\n",
    "start = datetime.date(end.year-3,1,1)  # Set to pull three years ago\n",
    "\n",
    "start_test = datetime.datetime(2020,11,1)\n",
    "end_test = datetime.datetime(2020,11,30)\n",
    "\n",
    "df = pdr.DataReader(ticker, 'yahoo', start, end)\n",
    "df_test = pdr.DataReader(ticker, 'yahoo', start_test, end_test)"
   ]
  },
  {
   "cell_type": "markdown",
   "metadata": {},
   "source": [
    "Convert from dataframe object into a csv.\n",
    "\n",
    "There are two dataframes. One is the historical data for the model training - three years.\n",
    "Second is the one month, specifically `Nov. 2020`."
   ]
  },
  {
   "cell_type": "code",
   "execution_count": 5,
   "metadata": {},
   "outputs": [
    {
     "data": {
      "text/html": [
       "<div>\n",
       "<style scoped>\n",
       "    .dataframe tbody tr th:only-of-type {\n",
       "        vertical-align: middle;\n",
       "    }\n",
       "\n",
       "    .dataframe tbody tr th {\n",
       "        vertical-align: top;\n",
       "    }\n",
       "\n",
       "    .dataframe thead th {\n",
       "        text-align: right;\n",
       "    }\n",
       "</style>\n",
       "<table border=\"1\" class=\"dataframe\">\n",
       "  <thead>\n",
       "    <tr style=\"text-align: right;\">\n",
       "      <th></th>\n",
       "      <th>High</th>\n",
       "      <th>Low</th>\n",
       "      <th>Open</th>\n",
       "      <th>Close</th>\n",
       "      <th>Volume</th>\n",
       "      <th>Adj Close</th>\n",
       "    </tr>\n",
       "    <tr>\n",
       "      <th>Date</th>\n",
       "      <th></th>\n",
       "      <th></th>\n",
       "      <th></th>\n",
       "      <th></th>\n",
       "      <th></th>\n",
       "      <th></th>\n",
       "    </tr>\n",
       "  </thead>\n",
       "  <tbody>\n",
       "    <tr>\n",
       "      <th>2017-01-03</th>\n",
       "      <td>44.066002</td>\n",
       "      <td>42.192001</td>\n",
       "      <td>42.972000</td>\n",
       "      <td>43.397999</td>\n",
       "      <td>29616500.0</td>\n",
       "      <td>43.397999</td>\n",
       "    </tr>\n",
       "    <tr>\n",
       "      <th>2017-01-04</th>\n",
       "      <td>45.599998</td>\n",
       "      <td>42.862000</td>\n",
       "      <td>42.950001</td>\n",
       "      <td>45.397999</td>\n",
       "      <td>56067500.0</td>\n",
       "      <td>45.397999</td>\n",
       "    </tr>\n",
       "    <tr>\n",
       "      <th>2017-01-05</th>\n",
       "      <td>45.495998</td>\n",
       "      <td>44.389999</td>\n",
       "      <td>45.284000</td>\n",
       "      <td>45.349998</td>\n",
       "      <td>29558500.0</td>\n",
       "      <td>45.349998</td>\n",
       "    </tr>\n",
       "    <tr>\n",
       "      <th>2017-01-06</th>\n",
       "      <td>46.062000</td>\n",
       "      <td>45.090000</td>\n",
       "      <td>45.386002</td>\n",
       "      <td>45.801998</td>\n",
       "      <td>27639500.0</td>\n",
       "      <td>45.801998</td>\n",
       "    </tr>\n",
       "    <tr>\n",
       "      <th>2017-01-09</th>\n",
       "      <td>46.383999</td>\n",
       "      <td>45.599998</td>\n",
       "      <td>45.793999</td>\n",
       "      <td>46.256001</td>\n",
       "      <td>19897500.0</td>\n",
       "      <td>46.256001</td>\n",
       "    </tr>\n",
       "  </tbody>\n",
       "</table>\n",
       "</div>"
      ],
      "text/plain": [
       "                 High        Low       Open      Close      Volume  Adj Close\n",
       "Date                                                                         \n",
       "2017-01-03  44.066002  42.192001  42.972000  43.397999  29616500.0  43.397999\n",
       "2017-01-04  45.599998  42.862000  42.950001  45.397999  56067500.0  45.397999\n",
       "2017-01-05  45.495998  44.389999  45.284000  45.349998  29558500.0  45.349998\n",
       "2017-01-06  46.062000  45.090000  45.386002  45.801998  27639500.0  45.801998\n",
       "2017-01-09  46.383999  45.599998  45.793999  46.256001  19897500.0  46.256001"
      ]
     },
     "execution_count": 5,
     "metadata": {},
     "output_type": "execute_result"
    }
   ],
   "source": [
    "df.to_csv(ticker + '_to_csv.csv')\n",
    "df.head()"
   ]
  },
  {
   "cell_type": "code",
   "execution_count": 6,
   "metadata": {},
   "outputs": [],
   "source": [
    "df_test.to_csv(ticker + '_2020-Nov.csv')"
   ]
  },
  {
   "cell_type": "markdown",
   "metadata": {},
   "source": [
    "## RNN development\n",
    "\n",
    "### Data Preprocessing"
   ]
  },
  {
   "cell_type": "code",
   "execution_count": 7,
   "metadata": {},
   "outputs": [],
   "source": [
    "# Import the training set\n",
    "dataset_train = pd.read_csv(ticker + '_to_csv.csv')\n",
    "training_set = dataset_train.iloc[:, 2:3].values  # Calling on 'Open' column"
   ]
  },
  {
   "cell_type": "markdown",
   "metadata": {},
   "source": [
    "### Feature scaling\n",
    "\n",
    "For an RNN, it is recommended to use `Normalization`\n",
    "\n",
    "$x_{norm} = \\frac{x-min(x)}{max(x) - min(x)}$"
   ]
  },
  {
   "cell_type": "code",
   "execution_count": 8,
   "metadata": {},
   "outputs": [],
   "source": [
    "from sklearn.preprocessing import MinMaxScaler\n",
    "sc = MinMaxScaler(feature_range = (0, 1))\n",
    "training_set_scaled = sc.fit_transform(training_set)"
   ]
  },
  {
   "cell_type": "markdown",
   "metadata": {},
   "source": [
    "### Data Strucuture with 60 Timesteps and 1 output\n",
    "\n",
    "60 timesteps in the past and then Time+1"
   ]
  },
  {
   "cell_type": "code",
   "execution_count": 9,
   "metadata": {},
   "outputs": [],
   "source": [
    "X_train = []\n",
    "y_train = []\n",
    "for i in range(60, 965):\n",
    "    X_train.append(training_set_scaled[i-60:i, 0])  # Call upon the previous 60\n",
    "    y_train.append(training_set_scaled[i, 0])  # i because it is the 61th index\n",
    "X_train, y_train = np.array(X_train), np.array(y_train)"
   ]
  },
  {
   "cell_type": "markdown",
   "metadata": {},
   "source": [
    "### Reshaping Data"
   ]
  },
  {
   "cell_type": "code",
   "execution_count": 10,
   "metadata": {},
   "outputs": [],
   "source": [
    "X_train = np.reshape(X_train, (X_train.shape[0], X_train.shape[1], 1))  # Creating a 3_D shape, numpy arrays stacked into indicators"
   ]
  },
  {
   "cell_type": "markdown",
   "metadata": {},
   "source": [
    "## Building the RNN"
   ]
  },
  {
   "cell_type": "code",
   "execution_count": 11,
   "metadata": {},
   "outputs": [],
   "source": [
    "from tensorflow.keras.models import Sequential\n",
    "from tensorflow.keras.layers import Dense, LSTM, Dropout"
   ]
  },
  {
   "cell_type": "code",
   "execution_count": 12,
   "metadata": {},
   "outputs": [],
   "source": [
    "# Initializing the RNN\n",
    "regressor = Sequential()"
   ]
  },
  {
   "cell_type": "markdown",
   "metadata": {},
   "source": [
    "### Adding first LSTM layer and some Dropout regularization"
   ]
  },
  {
   "cell_type": "code",
   "execution_count": 13,
   "metadata": {},
   "outputs": [],
   "source": [
    "regressor.add(LSTM(units = 50, return_sequences = True, input_shape = (X_train.shape[1], 1)))  # Starting with 50 neurons, True for stacking\n",
    "regressor.add(Dropout(0.2))  # Drop 20%"
   ]
  },
  {
   "cell_type": "markdown",
   "metadata": {},
   "source": [
    "### Rest of the LSTMs"
   ]
  },
  {
   "cell_type": "code",
   "execution_count": 14,
   "metadata": {},
   "outputs": [],
   "source": [
    "# 2nd LSTM layer\n",
    "regressor.add(LSTM(units = 50, return_sequences = True))  # Starting with 50 neurons, remove input layer\n",
    "regressor.add(Dropout(0.2))  # Drop 20%\n",
    "\n",
    "# 3rd LSTM layer\n",
    "regressor.add(LSTM(units = 50, return_sequences = True))  # Starting with 50 neurons, True for stacking\n",
    "regressor.add(Dropout(0.2))  # Drop 20%\n",
    "\n",
    "# 4th LSTM layer\n",
    "regressor.add(LSTM(units = 50))  # Starting with 50 neurons, False - Last in the stack\n",
    "regressor.add(Dropout(0.2))  # Drop 20%"
   ]
  },
  {
   "cell_type": "markdown",
   "metadata": {},
   "source": [
    "### Output Layer of RNN"
   ]
  },
  {
   "cell_type": "code",
   "execution_count": 15,
   "metadata": {},
   "outputs": [],
   "source": [
    "# Output Layer\n",
    "regressor.add(Dense(units = 1))"
   ]
  },
  {
   "cell_type": "markdown",
   "metadata": {},
   "source": [
    "## Compile the RNN"
   ]
  },
  {
   "cell_type": "code",
   "execution_count": 16,
   "metadata": {},
   "outputs": [],
   "source": [
    "regressor.compile(optimizer = 'adam', loss = 'mean_squared_error')  # Adam is awlays a good place to start"
   ]
  },
  {
   "cell_type": "markdown",
   "metadata": {},
   "source": [
    "### Fittting the RNN to Training set"
   ]
  },
  {
   "cell_type": "code",
   "execution_count": 17,
   "metadata": {},
   "outputs": [
    {
     "name": "stdout",
     "output_type": "stream",
     "text": [
      "Epoch 1/100\n",
      "29/29 [==============================] - 2s 61ms/step - loss: 0.0171\n",
      "Epoch 2/100\n",
      "29/29 [==============================] - 2s 56ms/step - loss: 0.0035\n",
      "Epoch 3/100\n",
      "29/29 [==============================] - 2s 56ms/step - loss: 0.0033\n",
      "Epoch 4/100\n",
      "29/29 [==============================] - 2s 55ms/step - loss: 0.0030\n",
      "Epoch 5/100\n",
      "29/29 [==============================] - 2s 57ms/step - loss: 0.0023\n",
      "Epoch 6/100\n",
      "29/29 [==============================] - 2s 55ms/step - loss: 0.0027\n",
      "Epoch 7/100\n",
      "29/29 [==============================] - 2s 56ms/step - loss: 0.0039\n",
      "Epoch 8/100\n",
      "29/29 [==============================] - 2s 69ms/step - loss: 0.0023\n",
      "Epoch 9/100\n",
      "29/29 [==============================] - 2s 55ms/step - loss: 0.0025\n",
      "Epoch 10/100\n",
      "29/29 [==============================] - 2s 55ms/step - loss: 0.0022\n",
      "Epoch 11/100\n",
      "29/29 [==============================] - 2s 55ms/step - loss: 0.0029\n",
      "Epoch 12/100\n",
      "29/29 [==============================] - 2s 56ms/step - loss: 0.0023\n",
      "Epoch 13/100\n",
      "29/29 [==============================] - 2s 56ms/step - loss: 0.0021\n",
      "Epoch 14/100\n",
      "29/29 [==============================] - 2s 57ms/step - loss: 0.0022\n",
      "Epoch 15/100\n",
      "29/29 [==============================] - 2s 57ms/step - loss: 0.0023\n",
      "Epoch 16/100\n",
      "29/29 [==============================] - 2s 56ms/step - loss: 0.0021\n",
      "Epoch 17/100\n",
      "29/29 [==============================] - 2s 55ms/step - loss: 0.0023\n",
      "Epoch 18/100\n",
      "29/29 [==============================] - 2s 56ms/step - loss: 0.0018\n",
      "Epoch 19/100\n",
      "29/29 [==============================] - 2s 56ms/step - loss: 0.0018\n",
      "Epoch 20/100\n",
      "29/29 [==============================] - 2s 57ms/step - loss: 0.0017\n",
      "Epoch 21/100\n",
      "29/29 [==============================] - 2s 56ms/step - loss: 0.0017\n",
      "Epoch 22/100\n",
      "29/29 [==============================] - 2s 55ms/step - loss: 0.0019\n",
      "Epoch 23/100\n",
      "29/29 [==============================] - 2s 56ms/step - loss: 0.0018\n",
      "Epoch 24/100\n",
      "29/29 [==============================] - 2s 55ms/step - loss: 0.0018\n",
      "Epoch 25/100\n",
      "29/29 [==============================] - 2s 55ms/step - loss: 0.0019\n",
      "Epoch 26/100\n",
      "29/29 [==============================] - 2s 55ms/step - loss: 0.0016\n",
      "Epoch 27/100\n",
      "29/29 [==============================] - 2s 55ms/step - loss: 0.0015\n",
      "Epoch 28/100\n",
      "29/29 [==============================] - 2s 55ms/step - loss: 0.0013\n",
      "Epoch 29/100\n",
      "29/29 [==============================] - 2s 55ms/step - loss: 0.0015\n",
      "Epoch 30/100\n",
      "29/29 [==============================] - 2s 54ms/step - loss: 0.0018\n",
      "Epoch 31/100\n",
      "29/29 [==============================] - 2s 55ms/step - loss: 0.0018\n",
      "Epoch 32/100\n",
      "29/29 [==============================] - 2s 59ms/step - loss: 0.0015\n",
      "Epoch 33/100\n",
      "29/29 [==============================] - 2s 56ms/step - loss: 0.0013\n",
      "Epoch 34/100\n",
      "29/29 [==============================] - 2s 56ms/step - loss: 0.0014\n",
      "Epoch 35/100\n",
      "29/29 [==============================] - 2s 58ms/step - loss: 0.0016\n",
      "Epoch 36/100\n",
      "29/29 [==============================] - 2s 55ms/step - loss: 0.0012\n",
      "Epoch 37/100\n",
      "29/29 [==============================] - 2s 54ms/step - loss: 0.0012\n",
      "Epoch 38/100\n",
      "29/29 [==============================] - 2s 56ms/step - loss: 0.0014\n",
      "Epoch 39/100\n",
      "29/29 [==============================] - 2s 58ms/step - loss: 0.0011\n",
      "Epoch 40/100\n",
      "29/29 [==============================] - 2s 57ms/step - loss: 0.0010\n",
      "Epoch 41/100\n",
      "29/29 [==============================] - 2s 56ms/step - loss: 0.0012\n",
      "Epoch 42/100\n",
      "29/29 [==============================] - 2s 55ms/step - loss: 0.0012\n",
      "Epoch 43/100\n",
      "29/29 [==============================] - 2s 55ms/step - loss: 0.0012\n",
      "Epoch 44/100\n",
      "29/29 [==============================] - 2s 55ms/step - loss: 0.0013\n",
      "Epoch 45/100\n",
      "29/29 [==============================] - 2s 55ms/step - loss: 0.0012\n",
      "Epoch 46/100\n",
      "29/29 [==============================] - 2s 55ms/step - loss: 0.0012\n",
      "Epoch 47/100\n",
      "29/29 [==============================] - 2s 55ms/step - loss: 0.0012\n",
      "Epoch 48/100\n",
      "29/29 [==============================] - 2s 55ms/step - loss: 0.0010\n",
      "Epoch 49/100\n",
      "29/29 [==============================] - 2s 55ms/step - loss: 0.0011\n",
      "Epoch 50/100\n",
      "29/29 [==============================] - 2s 56ms/step - loss: 0.0010\n",
      "Epoch 51/100\n",
      "29/29 [==============================] - 2s 56ms/step - loss: 0.0010\n",
      "Epoch 52/100\n",
      "29/29 [==============================] - 2s 58ms/step - loss: 9.4002e-04\n",
      "Epoch 53/100\n",
      "29/29 [==============================] - 2s 60ms/step - loss: 0.0011\n",
      "Epoch 54/100\n",
      "29/29 [==============================] - 2s 64ms/step - loss: 0.0013\n",
      "Epoch 55/100\n",
      "29/29 [==============================] - 2s 56ms/step - loss: 0.0011\n",
      "Epoch 56/100\n",
      "29/29 [==============================] - 2s 55ms/step - loss: 9.3597e-04\n",
      "Epoch 57/100\n",
      "29/29 [==============================] - 2s 61ms/step - loss: 0.0012\n",
      "Epoch 58/100\n",
      "29/29 [==============================] - 2s 65ms/step - loss: 0.0011\n",
      "Epoch 59/100\n",
      "29/29 [==============================] - 2s 63ms/step - loss: 8.9261e-04\n",
      "Epoch 60/100\n",
      "29/29 [==============================] - 2s 56ms/step - loss: 0.0012\n",
      "Epoch 61/100\n",
      "29/29 [==============================] - 2s 57ms/step - loss: 0.0011\n",
      "Epoch 62/100\n",
      "29/29 [==============================] - 2s 62ms/step - loss: 0.0011\n",
      "Epoch 63/100\n",
      "29/29 [==============================] - 2s 59ms/step - loss: 0.0014\n",
      "Epoch 64/100\n",
      "29/29 [==============================] - 2s 55ms/step - loss: 0.0013\n",
      "Epoch 65/100\n",
      "29/29 [==============================] - 2s 56ms/step - loss: 0.0011\n",
      "Epoch 66/100\n",
      "29/29 [==============================] - 2s 59ms/step - loss: 0.0011\n",
      "Epoch 67/100\n",
      "29/29 [==============================] - 2s 57ms/step - loss: 9.2318e-04\n",
      "Epoch 68/100\n",
      "29/29 [==============================] - 2s 60ms/step - loss: 0.0012\n",
      "Epoch 69/100\n",
      "29/29 [==============================] - 2s 61ms/step - loss: 9.9228e-04\n",
      "Epoch 70/100\n",
      "29/29 [==============================] - 2s 58ms/step - loss: 0.0010\n",
      "Epoch 71/100\n",
      "29/29 [==============================] - 2s 58ms/step - loss: 0.0012\n",
      "Epoch 72/100\n",
      "29/29 [==============================] - 2s 56ms/step - loss: 9.0672e-04\n",
      "Epoch 73/100\n",
      "29/29 [==============================] - 2s 58ms/step - loss: 9.9776e-04\n",
      "Epoch 74/100\n",
      "29/29 [==============================] - 2s 58ms/step - loss: 0.0010\n",
      "Epoch 75/100\n",
      "29/29 [==============================] - 2s 56ms/step - loss: 9.2000e-04\n",
      "Epoch 76/100\n",
      "29/29 [==============================] - 2s 56ms/step - loss: 0.0015\n",
      "Epoch 77/100\n",
      "29/29 [==============================] - 2s 55ms/step - loss: 0.0014\n",
      "Epoch 78/100\n",
      "29/29 [==============================] - 2s 57ms/step - loss: 9.6898e-04\n",
      "Epoch 79/100\n",
      "29/29 [==============================] - 2s 55ms/step - loss: 0.0013\n",
      "Epoch 80/100\n",
      "29/29 [==============================] - 2s 55ms/step - loss: 9.4936e-04\n",
      "Epoch 81/100\n",
      "29/29 [==============================] - 2s 55ms/step - loss: 0.0010\n",
      "Epoch 82/100\n",
      "29/29 [==============================] - 2s 55ms/step - loss: 0.0010\n",
      "Epoch 83/100\n",
      "29/29 [==============================] - 2s 55ms/step - loss: 0.0011\n",
      "Epoch 84/100\n",
      "29/29 [==============================] - 2s 54ms/step - loss: 9.5793e-04\n",
      "Epoch 85/100\n",
      "29/29 [==============================] - 2s 56ms/step - loss: 8.9357e-04\n",
      "Epoch 86/100\n",
      "29/29 [==============================] - 2s 55ms/step - loss: 8.5984e-04\n",
      "Epoch 87/100\n",
      "29/29 [==============================] - 2s 55ms/step - loss: 9.6949e-04\n",
      "Epoch 88/100\n",
      "29/29 [==============================] - 2s 54ms/step - loss: 9.9181e-04\n",
      "Epoch 89/100\n",
      "29/29 [==============================] - 2s 55ms/step - loss: 9.2473e-04\n",
      "Epoch 90/100\n",
      "29/29 [==============================] - 2s 55ms/step - loss: 9.4249e-04\n",
      "Epoch 91/100\n",
      "29/29 [==============================] - 2s 55ms/step - loss: 8.2159e-04\n",
      "Epoch 92/100\n",
      "29/29 [==============================] - 2s 55ms/step - loss: 9.1662e-04\n",
      "Epoch 93/100\n",
      "29/29 [==============================] - 2s 59ms/step - loss: 8.9165e-04\n",
      "Epoch 94/100\n",
      "29/29 [==============================] - 2s 59ms/step - loss: 9.7510e-04\n",
      "Epoch 95/100\n",
      "29/29 [==============================] - 2s 56ms/step - loss: 9.9303e-04\n",
      "Epoch 96/100\n",
      "29/29 [==============================] - 2s 56ms/step - loss: 8.5101e-04\n",
      "Epoch 97/100\n",
      "29/29 [==============================] - 2s 55ms/step - loss: 8.9360e-04\n",
      "Epoch 98/100\n",
      "29/29 [==============================] - 2s 55ms/step - loss: 0.0010\n",
      "Epoch 99/100\n"
     ]
    },
    {
     "name": "stdout",
     "output_type": "stream",
     "text": [
      "29/29 [==============================] - 2s 55ms/step - loss: 7.7327e-04\n",
      "Epoch 100/100\n",
      "29/29 [==============================] - 2s 54ms/step - loss: 9.2571e-04\n"
     ]
    },
    {
     "data": {
      "text/plain": [
       "<tensorflow.python.keras.callbacks.History at 0x273560e0c10>"
      ]
     },
     "execution_count": 17,
     "metadata": {},
     "output_type": "execute_result"
    }
   ],
   "source": [
    "regressor.fit(X_train, y_train, epochs = 100, batch_size = 32)"
   ]
  },
  {
   "cell_type": "markdown",
   "metadata": {},
   "source": [
    "# Making the Predictions and Visualization"
   ]
  },
  {
   "cell_type": "code",
   "execution_count": 18,
   "metadata": {},
   "outputs": [],
   "source": [
    "# Import the test set\n",
    "dataset_test = pd.read_csv(ticker +'_2020-Nov.csv')\n",
    "real_stock_price = dataset_test.iloc[:, 2:3].values  # Calling on 'Open' column"
   ]
  },
  {
   "cell_type": "code",
   "execution_count": 19,
   "metadata": {
    "scrolled": true
   },
   "outputs": [
    {
     "data": {
      "text/plain": [
       "array([[392.29998779],\n",
       "       [406.69000244],\n",
       "       [417.1000061 ],\n",
       "       [424.        ],\n",
       "       [424.27999878],\n",
       "       [421.        ],\n",
       "       [396.02999878],\n",
       "       [410.57998657],\n",
       "       [409.51998901],\n",
       "       [401.66000366],\n",
       "       [404.08999634],\n",
       "       [433.01000977],\n",
       "       [443.5       ],\n",
       "       [487.57000732],\n",
       "       [489.05999756],\n",
       "       [501.79000854],\n",
       "       [526.20001221],\n",
       "       [545.36999512],\n",
       "       [578.45001221],\n",
       "       [554.51000977]])"
      ]
     },
     "execution_count": 19,
     "metadata": {},
     "output_type": "execute_result"
    }
   ],
   "source": [
    "real_stock_price  # One month of stock values, e.g. Nov. 2020"
   ]
  },
  {
   "cell_type": "code",
   "execution_count": 20,
   "metadata": {},
   "outputs": [],
   "source": [
    "# Get the predicted stock price\n",
    "dataset_total = pd.concat((dataset_train['Open'], dataset_test['Open']), axis = 0)  # axis -> Vertical\n",
    "inputs = dataset_total[len(dataset_total) - len(dataset_test) - 60:].values  # find 60 previous and then the test area\n",
    "# reshape\n",
    "inputs = inputs.reshape(-1, 1)  # reshape into numpy array\n",
    "\n",
    "# scale the inputs from original dataframe\n",
    "inputs = sc.transform(inputs)"
   ]
  },
  {
   "cell_type": "markdown",
   "metadata": {},
   "source": [
    "### Create similiar For ... Loop structure, But `X_test`"
   ]
  },
  {
   "cell_type": "code",
   "execution_count": 21,
   "metadata": {},
   "outputs": [],
   "source": [
    "X_test = []  # Change to tester\n",
    "\n",
    "for i in range(60, 80):  # Only need the one month 20+60.\n",
    "    X_test.append(inputs[i-60:i, 0])  # Call upon the previous 60, \"inputs\"\n",
    "X_test = np.array(X_test)  # 60 previous in one column\n",
    "\n",
    "# 3D structure format\n",
    "X_test = np.reshape(X_test, (X_test.shape[0], X_test.shape[1], 1))\n",
    "\n",
    "predicted_stock_price = regressor.predict(X_test)  # execute the regressor, stored in variable\n",
    "\n",
    "# Inverse the scaling to get the original dollar value format\n",
    "predicted_stock_price = sc.inverse_transform(predicted_stock_price)"
   ]
  },
  {
   "cell_type": "code",
   "execution_count": 22,
   "metadata": {},
   "outputs": [
    {
     "data": {
      "text/plain": [
       "array([[424.26804],\n",
       "       [423.45053],\n",
       "       [423.3584 ],\n",
       "       [424.2084 ],\n",
       "       [425.34494],\n",
       "       [426.62292],\n",
       "       [427.93198],\n",
       "       [428.68185],\n",
       "       [428.98596],\n",
       "       [429.17374],\n",
       "       [429.28815],\n",
       "       [429.32562],\n",
       "       [430.58798],\n",
       "       [432.0188 ],\n",
       "       [434.33728],\n",
       "       [436.70538],\n",
       "       [438.509  ],\n",
       "       [440.60748],\n",
       "       [442.30884],\n",
       "       [444.06183]], dtype=float32)"
      ]
     },
     "execution_count": 22,
     "metadata": {},
     "output_type": "execute_result"
    }
   ],
   "source": [
    "predicted_stock_price"
   ]
  },
  {
   "cell_type": "markdown",
   "metadata": {},
   "source": [
    "## Final Prediction Results"
   ]
  },
  {
   "cell_type": "code",
   "execution_count": 23,
   "metadata": {},
   "outputs": [
    {
     "data": {
      "image/png": "[encoded data removed]",
      "text/plain": [
       "<Figure size 432x288 with 1 Axes>"
      ]
     },
     "metadata": {
      "needs_background": "light"
     },
     "output_type": "display_data"
    }
   ],
   "source": [
    "# Visualizations\n",
    "\n",
    "plt.plot(real_stock_price, color = 'red', label=\"real stock price\")\n",
    "plt.plot(predicted_stock_price, color = 'purple', label=\"predicted stock price\")\n",
    "plt.title(ticker + \" stock price prediction\")\n",
    "plt.xlabel(\"Time\")\n",
    "plt.ylabel(\"Price\")\n",
    "plt.legend()\n",
    "plt.show()"
   ]
  }
 ],
 "metadata": {
  "kernelspec": {
   "display_name": "tf2",
   "language": "python",
   "name": "tf2"
  },
  "language_info": {
   "codemirror_mode": {
    "name": "ipython",
    "version": 3
   },
   "file_extension": ".py",
   "mimetype": "text/x-python",
   "name": "python",
   "nbconvert_exporter": "python",
   "pygments_lexer": "ipython3",
   "version": "3.8.6"
  }
 },
 "nbformat": 4,
 "nbformat_minor": 4
}
